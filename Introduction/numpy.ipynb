{
  "nbformat": 4,
  "nbformat_minor": 0,
  "metadata": {
    "colab": {
      "provenance": [],
      "toc_visible": true,
      "authorship_tag": "ABX9TyOmieKWrHV2K0YHsL7Bq7ep",
      "include_colab_link": true
    },
    "kernelspec": {
      "name": "python3",
      "display_name": "Python 3"
    },
    "language_info": {
      "name": "python"
    }
  },
  "cells": [
    {
      "cell_type": "markdown",
      "metadata": {
        "id": "view-in-github",
        "colab_type": "text"
      },
      "source": [
        "<a href=\"https://colab.research.google.com/github/OrthrusB/All-Sem/blob/main/Introduction/numpy.ipynb\" target=\"_parent\"><img src=\"https://colab.research.google.com/assets/colab-badge.svg\" alt=\"Open In Colab\"/></a>"
      ]
    },
    {
      "cell_type": "code",
      "execution_count": 4,
      "metadata": {
        "id": "C9unDHTCqbmC"
      },
      "outputs": [],
      "source": []
    },
    {
      "cell_type": "markdown",
      "source": [
        "# **Introduction to NumPy**\n",
        "\n",
        "# what we will cover?\n",
        "\n",
        "\n",
        "*   Creating arrays\n",
        "*   multidimensional array\n",
        "*   Randomly generated arrays\n",
        "*   Element wise operations\n",
        "*   Summarizing operations\n",
        "\n",
        "\n",
        "\n",
        "\n",
        "\n"
      ],
      "metadata": {
        "id": "GkJhuB24sEkv"
      }
    },
    {
      "cell_type": "markdown",
      "source": [
        "# One dimensional array\n"
      ],
      "metadata": {
        "id": "FWAKBFOEyB28"
      }
    },
    {
      "cell_type": "code",
      "source": [
        "import numpy as np\n",
        "#create and array with all the element zeros"
      ],
      "metadata": {
        "id": "XWHgDV-gyi2e"
      },
      "execution_count": 19,
      "outputs": []
    },
    {
      "cell_type": "code",
      "source": [
        "#element with ones\n",
        "np.ones(5)"
      ],
      "metadata": {
        "colab": {
          "base_uri": "https://localhost:8080/"
        },
        "id": "F1CR8UAVyo2g",
        "outputId": "285e77cc-1e14-4d23-ebde-84f64f7eba23"
      },
      "execution_count": 20,
      "outputs": [
        {
          "output_type": "execute_result",
          "data": {
            "text/plain": [
              "array([1., 1., 1., 1., 1.])"
            ]
          },
          "metadata": {},
          "execution_count": 20
        }
      ]
    },
    {
      "cell_type": "code",
      "source": [
        "#create an array of size 10 with all elements 3\n",
        "np.full(10, 3)"
      ],
      "metadata": {
        "colab": {
          "base_uri": "https://localhost:8080/"
        },
        "id": "8womiSVXyvBg",
        "outputId": "2a9931ba-04f1-4350-92c0-5d46580ad8ea"
      },
      "execution_count": 21,
      "outputs": [
        {
          "output_type": "execute_result",
          "data": {
            "text/plain": [
              "array([3, 3, 3, 3, 3, 3, 3, 3, 3, 3])"
            ]
          },
          "metadata": {},
          "execution_count": 21
        }
      ]
    },
    {
      "cell_type": "code",
      "source": [
        "np.array([1, 2, 3, 4, 5])"
      ],
      "metadata": {
        "colab": {
          "base_uri": "https://localhost:8080/"
        },
        "id": "KWT8HcdAyytr",
        "outputId": "f14edcc0-1972-4450-f62a-64750cc44f6d"
      },
      "execution_count": 22,
      "outputs": [
        {
          "output_type": "execute_result",
          "data": {
            "text/plain": [
              "array([1, 2, 3, 4, 5])"
            ]
          },
          "metadata": {},
          "execution_count": 22
        }
      ]
    },
    {
      "cell_type": "code",
      "source": [
        "arr=np.array([5, 6, 7, 8, 9])\n",
        "arr[3]=10\n",
        "print(arr)"
      ],
      "metadata": {
        "colab": {
          "base_uri": "https://localhost:8080/"
        },
        "id": "HZwAucfRy2pe",
        "outputId": "ae2db22b-803d-413e-ed18-088c21b55091"
      },
      "execution_count": 23,
      "outputs": [
        {
          "output_type": "stream",
          "name": "stdout",
          "text": [
            "[ 5  6  7 10  9]\n"
          ]
        }
      ]
    },
    {
      "cell_type": "code",
      "source": [
        "#range diyera\n",
        "np.arange(3, 10)"
      ],
      "metadata": {
        "colab": {
          "base_uri": "https://localhost:8080/"
        },
        "id": "FHMZGnnnz-2B",
        "outputId": "970dae4d-c192-4a73-c645-a95220bd5463"
      },
      "execution_count": 31,
      "outputs": [
        {
          "output_type": "execute_result",
          "data": {
            "text/plain": [
              "array([3, 4, 5, 6, 7, 8, 9])"
            ]
          },
          "metadata": {},
          "execution_count": 31
        }
      ]
    },
    {
      "cell_type": "code",
      "source": [
        "#create array with evenly spaced numbers within a specified range\n",
        "np.linspace(0, 100, 11)"
      ],
      "metadata": {
        "colab": {
          "base_uri": "https://localhost:8080/"
        },
        "id": "cJhfFJhA0Awd",
        "outputId": "a8a7d270-78bf-4ec6-dcc5-878c4bdc73b1"
      },
      "execution_count": 32,
      "outputs": [
        {
          "output_type": "execute_result",
          "data": {
            "text/plain": [
              "array([  0.,  10.,  20.,  30.,  40.,  50.,  60.,  70.,  80.,  90., 100.])"
            ]
          },
          "metadata": {},
          "execution_count": 32
        }
      ]
    },
    {
      "cell_type": "markdown",
      "source": [
        "# Two Dimensional Array"
      ],
      "metadata": {
        "id": "bRagzUEgy4Ec"
      }
    },
    {
      "cell_type": "code",
      "source": [
        "np.zeros((3, 5))"
      ],
      "metadata": {
        "colab": {
          "base_uri": "https://localhost:8080/"
        },
        "id": "AeDwLYAqy7oy",
        "outputId": "f9ed81a6-16e1-4b85-9a67-45df656a11d4"
      },
      "execution_count": 27,
      "outputs": [
        {
          "output_type": "execute_result",
          "data": {
            "text/plain": [
              "array([[0., 0., 0., 0., 0.],\n",
              "       [0., 0., 0., 0., 0.],\n",
              "       [0., 0., 0., 0., 0.]])"
            ]
          },
          "metadata": {},
          "execution_count": 27
        }
      ]
    },
    {
      "cell_type": "code",
      "source": [
        "np.ones((2, 2))"
      ],
      "metadata": {
        "colab": {
          "base_uri": "https://localhost:8080/"
        },
        "id": "0jM3tneQy_ti",
        "outputId": "14832b5e-bba6-4e7a-ecc0-a1320cfc3952"
      },
      "execution_count": 28,
      "outputs": [
        {
          "output_type": "execute_result",
          "data": {
            "text/plain": [
              "array([[1., 1.],\n",
              "       [1., 1.]])"
            ]
          },
          "metadata": {},
          "execution_count": 28
        }
      ]
    },
    {
      "cell_type": "code",
      "source": [
        "a=np.array([[1, 2, 3],\n",
        "          [4, 5, 6],\n",
        "          [7, 8, 9]]\n",
        "          )\n",
        "\n",
        "a[0,1]=20\n",
        "a\n"
      ],
      "metadata": {
        "colab": {
          "base_uri": "https://localhost:8080/"
        },
        "id": "_lkIC-PvzIdU",
        "outputId": "c9b56248-9908-4ef2-82da-310e91f71772"
      },
      "execution_count": 40,
      "outputs": [
        {
          "output_type": "execute_result",
          "data": {
            "text/plain": [
              "array([[ 1, 20,  3],\n",
              "       [ 4,  5,  6],\n",
              "       [ 7,  8,  9]])"
            ]
          },
          "metadata": {},
          "execution_count": 40
        }
      ]
    },
    {
      "cell_type": "code",
      "source": [
        "print(\"\\n\")\n",
        "a[2:3]=1\n",
        "a"
      ],
      "metadata": {
        "colab": {
          "base_uri": "https://localhost:8080/"
        },
        "id": "2ZUCP9kp0Mo4",
        "outputId": "688eac8e-793f-405d-f87b-fbc139cff42c"
      },
      "execution_count": 39,
      "outputs": [
        {
          "output_type": "stream",
          "name": "stdout",
          "text": [
            "\n",
            "\n"
          ]
        },
        {
          "output_type": "execute_result",
          "data": {
            "text/plain": [
              "array([[ 1, 20,  3],\n",
              "       [ 4,  5,  6],\n",
              "       [ 1,  1,  1]])"
            ]
          },
          "metadata": {},
          "execution_count": 39
        }
      ]
    },
    {
      "cell_type": "code",
      "source": [
        "a[0,2]=2\n",
        "a[1,2]=2\n",
        "a[2,2]=2\n",
        "print (a)"
      ],
      "metadata": {
        "colab": {
          "base_uri": "https://localhost:8080/"
        },
        "id": "e5JXAP6U1wa2",
        "outputId": "cbb58856-b9ea-430c-c6dc-10519d3e6ad2"
      },
      "execution_count": 41,
      "outputs": [
        {
          "output_type": "stream",
          "name": "stdout",
          "text": [
            "[[ 1 20  2]\n",
            " [ 4  5  2]\n",
            " [ 7  8  2]]\n"
          ]
        }
      ]
    },
    {
      "cell_type": "code",
      "source": [
        "#all elements 10 of 3*3 matrix\n",
        "np.full((3, 3), 10)"
      ],
      "metadata": {
        "colab": {
          "base_uri": "https://localhost:8080/"
        },
        "id": "R2lBhx5v2ORm",
        "outputId": "988bd2e3-5621-49b4-8712-3ab844737910"
      },
      "execution_count": 42,
      "outputs": [
        {
          "output_type": "execute_result",
          "data": {
            "text/plain": [
              "array([[10, 10, 10],\n",
              "       [10, 10, 10],\n",
              "       [10, 10, 10]])"
            ]
          },
          "metadata": {},
          "execution_count": 42
        }
      ]
    },
    {
      "cell_type": "markdown",
      "source": [
        "# Randomly generated array\n",
        "- NumPy can create arrays filled with random numbers\n",
        "- To ensure the reporducibilitym you can set a seed using ```np.random.\n",
        "seed()```. It will generate the exact same random numbers for each executions.\n",
        "- If you remove or change the seed values , the sequence fo random numbers will be changed.\n"
      ],
      "metadata": {
        "id": "8c5cAVzl278V"
      }
    },
    {
      "cell_type": "code",
      "source": [
        "np.random.rand(5)"
      ],
      "metadata": {
        "colab": {
          "base_uri": "https://localhost:8080/"
        },
        "id": "hgb8GTpW2_l6",
        "outputId": "3e30311f-a3e9-4fc4-851f-ea61a4d896ca"
      },
      "execution_count": 43,
      "outputs": [
        {
          "output_type": "execute_result",
          "data": {
            "text/plain": [
              "array([0.48954755, 0.4062465 , 0.88603365, 0.98789135, 0.53707879])"
            ]
          },
          "metadata": {},
          "execution_count": 43
        }
      ]
    },
    {
      "cell_type": "code",
      "source": [
        "np.random.seed(80)\n",
        "np.random.rand(5)\n",
        "#randomly numbers generated always comes between 0 and 1"
      ],
      "metadata": {
        "colab": {
          "base_uri": "https://localhost:8080/"
        },
        "id": "d_vlqpB5396i",
        "outputId": "395f2302-29f2-4895-bbfd-c244ea5342eb"
      },
      "execution_count": 59,
      "outputs": [
        {
          "output_type": "execute_result",
          "data": {
            "text/plain": [
              "array([0.52191572, 0.69940637, 0.26986897, 0.67448187, 0.90807208])"
            ]
          },
          "metadata": {},
          "execution_count": 59
        }
      ]
    },
    {
      "cell_type": "code",
      "source": [
        "np.random.randn(5, 2)"
      ],
      "metadata": {
        "colab": {
          "base_uri": "https://localhost:8080/"
        },
        "id": "jodLeEC345Wj",
        "outputId": "84b24f83-d966-4ad2-d91a-f1ce7e4dca71"
      },
      "execution_count": 66,
      "outputs": [
        {
          "output_type": "execute_result",
          "data": {
            "text/plain": [
              "array([[-0.23545288,  0.04447746],\n",
              "       [ 0.68371182, -0.88236076],\n",
              "       [ 0.43882123, -0.79216802],\n",
              "       [ 1.44149913, -1.73100657],\n",
              "       [-0.11842654,  0.9031765 ]])"
            ]
          },
          "metadata": {},
          "execution_count": 66
        }
      ]
    },
    {
      "cell_type": "code",
      "source": [
        "np.random.randint(low=0, high=100,size=(5,2))"
      ],
      "metadata": {
        "colab": {
          "base_uri": "https://localhost:8080/"
        },
        "id": "Us2O_5TW5tfC",
        "outputId": "6823b53d-1f2b-479f-bab4-7e2b38b04495"
      },
      "execution_count": 68,
      "outputs": [
        {
          "output_type": "execute_result",
          "data": {
            "text/plain": [
              "array([[33, 63],\n",
              "       [ 9,  1],\n",
              "       [27, 80],\n",
              "       [55, 39],\n",
              "       [76,  3]])"
            ]
          },
          "metadata": {},
          "execution_count": 68
        }
      ]
    },
    {
      "cell_type": "code",
      "source": [
        "print(\"hi babin\")"
      ],
      "metadata": {
        "id": "JtZTT2y56l42"
      },
      "execution_count": null,
      "outputs": []
    }
  ]
}